{
 "cells": [
  {
   "cell_type": "code",
   "execution_count": 23,
   "metadata": {
    "pycharm": {
     "is_executing": false,
     "name": "#%%\n"
    }
   },
   "outputs": [
    {
     "name": "stdout",
     "text": [
      "INFO:marlo.base_env_builder:params.gameMode : Cannot force survival mode.\n",
      "INFO:marlo.base_env_builder:params.gameMode : Cannot force survival mode.\n",
      "INFO:marlo.base_env_builder:Waiting for mission to start...\n",
      "INFO:marlo.base_env_builder:Mission Running\n",
      "7\nobs:  [[[ 66  64  61]\n  [ 66  64  61]\n  [ 66  64  61]\n  ...\n  [ 59  54  45]\n  [ 59  54  45]\n  [ 59  54  45]]\n\n [[ 66  64  61]\n  [ 66  64  61]\n  [ 66  64  61]\n  ...\n  [ 59  54  45]\n  [ 59  54  45]\n  [ 59  54  45]]\n\n [[ 66  64  61]\n  [ 66  64  61]\n  [ 66  64  61]\n  ...\n  [ 48  44  37]\n  [ 48  44  37]\n  [ 48  44  37]]\n\n ...\n\n [[216 108  26]\n  [216 108  26]\n  [216 108  26]\n  ...\n  [200 190 133]\n  [200 190 133]\n  [200 190 133]]\n\n [[216 108  26]\n  [216 108  26]\n  [212  95  19]\n  ...\n  [200 190 133]\n  [200 190 133]\n  [200 190 133]]\n\n [[216 108  26]\n  [212  95  19]\n  [212  95  19]\n  ...\n  [200 190 133]\n  [200 190 133]\n  [200 190 133]]]\n6\nobs:  [[[ 55  50  42]\n  [ 55  50  42]\n  [ 55  50  42]\n  ...\n  [ 67  62  52]\n  [ 67  62  52]\n  [ 67  62  52]]\n\n [[ 55  50  42]\n  [ 55  50  42]\n  [ 55  50  42]\n  ...\n  [ 67  62  52]\n  [ 67  62  52]\n  [ 67  62  52]]\n\n [[ 67  62  52]\n  [ 55  50  42]\n  [ 55  50  42]\n  ...\n  [ 67  62  52]\n  [ 67  62  52]\n  [ 60  55  46]]\n\n ...\n\n [[232 173  69]\n  [210  84  14]\n  [210  84  14]\n  ...\n  [207 197 142]\n  [205 194 140]\n  [205 194 140]]\n\n [[210  84  14]\n  [210  84  14]\n  [210  84  14]\n  ...\n  [207 197 142]\n  [207 197 142]\n  [205 194 140]]\n\n [[210  84  14]\n  [210  84  14]\n  [210  84  14]\n  ...\n  [207 197 142]\n  [207 197 142]\n  [207 197 142]]]\n4\n",
      "INFO:marlo.base_env_builder:Mission ended: drowned_in_lava\n",
      "obs:  [[[ 74  74  72]\n  [ 74  74  72]\n  [ 84  83  81]\n  ...\n  [ 61  56  48]\n  [ 61  56  48]\n  [ 61  56  48]]\n\n [[ 74  74  72]\n  [ 74  74  72]\n  [ 84  83  81]\n  ...\n  [ 61  56  48]\n  [ 61  56  48]\n  [ 61  56  48]]\n\n [[ 74  74  72]\n  [ 74  74  72]\n  [ 74  74  72]\n  ...\n  [ 61  56  48]\n  [ 61  56  48]\n  [ 61  56  48]]\n\n ...\n\n [[218 114  30]\n  [228 156  57]\n  [228 156  57]\n  ...\n  [196 188 136]\n  [196 188 136]\n  [196 188 136]]\n\n [[228 156  57]\n  [228 156  57]\n  [228 156  57]\n  ...\n  [196 188 136]\n  [196 188 136]\n  [196 188 136]]\n\n [[228 156  57]\n  [228 156  57]\n  [228 156  57]\n  ...\n  [205 196 145]\n  [205 196 145]\n  [205 196 145]]]\n"
     ],
     "output_type": "stream"
    }
   ],
   "source": [
    "import marlo\n",
    "client_pool = [('127.0.0.1', 10000)]\n",
    "join_tokens = marlo.make('MarLo-CliffWalking-v0',\n",
    "                          params=dict(\n",
    "                            client_pool=client_pool,\n",
    "                            allowContinuousMovement=True,\n",
    "                            comp_all_commands=[\"move\", \"turn\"]\n",
    "                          ))\n",
    "# As this is a single agent scenario,\n",
    "# there will just be a single token\n",
    "assert len(join_tokens) == 1\n",
    "join_token = join_tokens[0]\n",
    "\n",
    "env = marlo.init(join_token)\n",
    "\n",
    "observation = env.reset()\n",
    "\n",
    "done = False\n",
    "while not done:\n",
    "    _action = env.action_space.sample()\n",
    "    print(\"action:\", _action)\n",
    "    obs, reward, done, info = env.step(_action)\n",
    "    print(\"reward: \", reward)\n",
    "    print(\"done: \", done)\n",
    "    print(\"info: \", info)\n",
    "env.close()\n"
   ]
  }
 ],
 "metadata": {
  "kernelspec": {
   "name": "pycharm-68698a6b",
   "language": "python",
   "display_name": "PyCharm (marLo)"
  },
  "language_info": {
   "codemirror_mode": {
    "name": "ipython",
    "version": 3
   },
   "file_extension": ".py",
   "mimetype": "text/x-python",
   "name": "python",
   "nbconvert_exporter": "python",
   "pygments_lexer": "ipython3",
   "version": "3.5.2"
  },
  "pycharm": {
   "stem_cell": {
    "cell_type": "raw",
    "source": [],
    "metadata": {
     "collapsed": false
    }
   }
  }
 },
 "nbformat": 4,
 "nbformat_minor": 2
}