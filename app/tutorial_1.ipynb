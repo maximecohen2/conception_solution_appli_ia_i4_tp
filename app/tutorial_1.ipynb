{
 "cells": [
  {
   "cell_type": "code",
   "execution_count": null,
   "metadata": {
    "pycharm": {
     "name": "#%%\n"
    }
   },
   "outputs": [
    {
     "name": "stdout",
     "output_type": "stream",
     "text": [
      "ERROR: Caught std::exception: unrecognised option '-f'\n",
      "\n",
      "Malmo version: 0.36.0\n",
      "\n",
      "Allowed options:\n",
      "  -h [ --help ]         show description of allowed options\n",
      "  --test                run this as an integration test\n",
      "\n",
      "\n",
      "Error starting mission: Failed to find an available client for this mission - tried all the clients in the supplied client pool.\n",
      "Waiting for the mission to start  ........................................................................................................................................................................................................................................................................................................................................................................................................................................................................................................................................................................................................................................................................................................................................................................................................"
     ]
    }
   ],
   "source": [
    "\n",
    "from __future__ import print_function\n",
    "# ------------------------------------------------------------------------------------------------\n",
    "# Copyright (c) 2016 Microsoft Corporation\n",
    "# \n",
    "# Permission is hereby granted, free of charge, to any person obtaining a copy of this software and\n",
    "# associated documentation files (the \"Software\"), to deal in the Software without restriction,\n",
    "# including without limitation the rights to use, copy, modify, merge, publish, distribute,\n",
    "# sublicense, and/or sell copies of the Software, and to permit persons to whom the Software is\n",
    "# furnished to do so, subject to the following conditions:\n",
    "# \n",
    "# The above copyright notice and this permission notice shall be included in all copies or\n",
    "# substantial portions of the Software.\n",
    "# \n",
    "# THE SOFTWARE IS PROVIDED \"AS IS\", WITHOUT WARRANTY OF ANY KIND, EXPRESS OR IMPLIED, INCLUDING BUT\n",
    "# NOT LIMITED TO THE WARRANTIES OF MERCHANTABILITY, FITNESS FOR A PARTICULAR PURPOSE AND\n",
    "# NONINFRINGEMENT. IN NO EVENT SHALL THE AUTHORS OR COPYRIGHT HOLDERS BE LIABLE FOR ANY CLAIM,\n",
    "# DAMAGES OR OTHER LIABILITY, WHETHER IN AN ACTION OF CONTRACT, TORT OR OTHERWISE, ARISING FROM,\n",
    "# OUT OF OR IN CONNECTION WITH THE SOFTWARE OR THE USE OR OTHER DEALINGS IN THE SOFTWARE.\n",
    "# ------------------------------------------------------------------------------------------------\n",
    "\n",
    "# Tutorial sample #1: Run simple mission\n",
    "\n",
    "from builtins import range\n",
    "# Allow MalmoPython to be imported both from an installed \n",
    "# malmo module and (as an override) separately as a native library.\n",
    "try:\n",
    "    import MalmoPython\n",
    "except ImportError:\n",
    "    import malmo.MalmoPython as MalmoPython\n",
    "import os\n",
    "import sys\n",
    "import time\n",
    "\n",
    "if sys.version_info[0] == 2:\n",
    "    sys.stdout = os.fdopen(sys.stdout.fileno(), 'w', 0)  # flush print output immediately\n",
    "else:\n",
    "    import functools\n",
    "    print = functools.partial(print, flush=True)\n",
    "\n",
    "# Create default Malmo objects:\n",
    "\n",
    "agent_host = MalmoPython.AgentHost()\n",
    "try:\n",
    "    agent_host.parse( sys.argv )\n",
    "except RuntimeError as e:\n",
    "    print('ERROR:',e)\n",
    "    print(agent_host.getUsage())\n",
    "    exit(1)\n",
    "if agent_host.receivedArgument(\"help\"):\n",
    "    print(agent_host.getUsage())\n",
    "    exit(0)\n",
    "\n",
    "my_mission = MalmoPython.MissionSpec()\n",
    "my_mission_record = MalmoPython.MissionRecordSpec()\n",
    "\n",
    "# Attempt to start a mission:\n",
    "max_retries = 3\n",
    "for retry in range(max_retries):\n",
    "    try:\n",
    "        agent_host.startMission( my_mission, my_mission_record )\n",
    "        break\n",
    "    except RuntimeError as e:\n",
    "        if retry == max_retries - 1:\n",
    "            print(\"Error starting mission:\",e)\n",
    "            exit(1)\n",
    "        else:\n",
    "            time.sleep(2)\n",
    "\n",
    "# Loop until mission starts:\n",
    "print(\"Waiting for the mission to start \", end=' ')\n",
    "world_state = agent_host.getWorldState()\n",
    "while not world_state.has_mission_begun:\n",
    "    print(\".\", end=\"\")\n",
    "    time.sleep(0.1)\n",
    "    world_state = agent_host.getWorldState()\n",
    "    for error in world_state.errors:\n",
    "        print(\"Error:\",error.text)\n",
    "\n",
    "print()\n",
    "print(\"Mission running \", end=' ')\n",
    "\n",
    "# Loop until mission ends:\n",
    "while world_state.is_mission_running:\n",
    "    print(\".\", end=\"\")\n",
    "    time.sleep(0.1)\n",
    "    world_state = agent_host.getWorldState()\n",
    "    for error in world_state.errors:\n",
    "        print(\"Error:\",error.text)\n",
    "\n",
    "print()\n",
    "print(\"Mission ended\")\n",
    "# Mission has ended.\n"
   ]
  },
  {
   "cell_type": "code",
   "execution_count": null,
   "metadata": {},
   "outputs": [],
   "source": []
  }
 ],
 "metadata": {
  "kernelspec": {
   "display_name": "Python 3",
   "language": "python",
   "name": "python3"
  },
  "language_info": {
   "codemirror_mode": {
    "name": "ipython",
    "version": 3
   },
   "file_extension": ".py",
   "mimetype": "text/x-python",
   "name": "python",
   "nbconvert_exporter": "python",
   "pygments_lexer": "ipython3",
   "version": "3.5.2"
  },
  "pycharm": {
   "stem_cell": {
    "cell_type": "raw",
    "metadata": {
     "collapsed": false
    },
    "source": []
   }
  }
 },
 "nbformat": 4,
 "nbformat_minor": 2
}
